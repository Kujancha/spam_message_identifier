{
 "cells": [
  {
   "cell_type": "code",
   "execution_count": 1,
   "id": "f25210f0-eca6-40c9-bedd-15f49a8d812e",
   "metadata": {},
   "outputs": [],
   "source": [
    "import pandas as pd"
   ]
  },
  {
   "cell_type": "code",
   "execution_count": 23,
   "id": "d25cf7f1-e75d-4e51-af0a-55c19d1a5bbd",
   "metadata": {},
   "outputs": [
    {
     "data": {
      "text/html": [
       "<div>\n",
       "<style scoped>\n",
       "    .dataframe tbody tr th:only-of-type {\n",
       "        vertical-align: middle;\n",
       "    }\n",
       "\n",
       "    .dataframe tbody tr th {\n",
       "        vertical-align: top;\n",
       "    }\n",
       "\n",
       "    .dataframe thead th {\n",
       "        text-align: right;\n",
       "    }\n",
       "</style>\n",
       "<table border=\"1\" class=\"dataframe\">\n",
       "  <thead>\n",
       "    <tr style=\"text-align: right;\">\n",
       "      <th></th>\n",
       "      <th>classification</th>\n",
       "      <th>messages</th>\n",
       "    </tr>\n",
       "  </thead>\n",
       "  <tbody>\n",
       "    <tr>\n",
       "      <th>0</th>\n",
       "      <td>ham</td>\n",
       "      <td>Go until jurong point, crazy.. Available only ...</td>\n",
       "    </tr>\n",
       "    <tr>\n",
       "      <th>1</th>\n",
       "      <td>ham</td>\n",
       "      <td>Ok lar... Joking wif u oni...</td>\n",
       "    </tr>\n",
       "    <tr>\n",
       "      <th>2</th>\n",
       "      <td>spam</td>\n",
       "      <td>Free entry in 2 a wkly comp to win FA Cup fina...</td>\n",
       "    </tr>\n",
       "    <tr>\n",
       "      <th>3</th>\n",
       "      <td>ham</td>\n",
       "      <td>U dun say so early hor... U c already then say...</td>\n",
       "    </tr>\n",
       "    <tr>\n",
       "      <th>4</th>\n",
       "      <td>ham</td>\n",
       "      <td>Nah I don't think he goes to usf, he lives aro...</td>\n",
       "    </tr>\n",
       "    <tr>\n",
       "      <th>...</th>\n",
       "      <td>...</td>\n",
       "      <td>...</td>\n",
       "    </tr>\n",
       "    <tr>\n",
       "      <th>5567</th>\n",
       "      <td>spam</td>\n",
       "      <td>This is the 2nd time we have tried 2 contact u...</td>\n",
       "    </tr>\n",
       "    <tr>\n",
       "      <th>5568</th>\n",
       "      <td>ham</td>\n",
       "      <td>Will ü b going to esplanade fr home?</td>\n",
       "    </tr>\n",
       "    <tr>\n",
       "      <th>5569</th>\n",
       "      <td>ham</td>\n",
       "      <td>Pity, * was in mood for that. So...any other s...</td>\n",
       "    </tr>\n",
       "    <tr>\n",
       "      <th>5570</th>\n",
       "      <td>ham</td>\n",
       "      <td>The guy did some bitching but I acted like i'd...</td>\n",
       "    </tr>\n",
       "    <tr>\n",
       "      <th>5571</th>\n",
       "      <td>ham</td>\n",
       "      <td>Rofl. Its true to its name</td>\n",
       "    </tr>\n",
       "  </tbody>\n",
       "</table>\n",
       "<p>5572 rows × 2 columns</p>\n",
       "</div>"
      ],
      "text/plain": [
       "     classification                                           messages\n",
       "0               ham  Go until jurong point, crazy.. Available only ...\n",
       "1               ham                      Ok lar... Joking wif u oni...\n",
       "2              spam  Free entry in 2 a wkly comp to win FA Cup fina...\n",
       "3               ham  U dun say so early hor... U c already then say...\n",
       "4               ham  Nah I don't think he goes to usf, he lives aro...\n",
       "...             ...                                                ...\n",
       "5567           spam  This is the 2nd time we have tried 2 contact u...\n",
       "5568            ham               Will ü b going to esplanade fr home?\n",
       "5569            ham  Pity, * was in mood for that. So...any other s...\n",
       "5570            ham  The guy did some bitching but I acted like i'd...\n",
       "5571            ham                         Rofl. Its true to its name\n",
       "\n",
       "[5572 rows x 2 columns]"
      ]
     },
     "execution_count": 23,
     "metadata": {},
     "output_type": "execute_result"
    }
   ],
   "source": [
    "df = pd.read_csv(\"./data/SMSSpamCollection\", sep=\"\\t\", names=[\"classification\", \"messages\"])\n",
    "df"
   ]
  },
  {
   "cell_type": "code",
   "execution_count": 3,
   "id": "3d574d92-4aa3-47de-b38a-6590e87449bb",
   "metadata": {},
   "outputs": [
    {
     "data": {
      "text/plain": [
       "Index(['classification', 'messages'], dtype='object')"
      ]
     },
     "execution_count": 3,
     "metadata": {},
     "output_type": "execute_result"
    }
   ],
   "source": [
    "df.columns"
   ]
  },
  {
   "cell_type": "code",
   "execution_count": 4,
   "id": "fa5d5334-df39-4fe1-9fe6-dfa779ae4767",
   "metadata": {},
   "outputs": [
    {
     "data": {
      "text/plain": [
       "array(['ham', 'spam'], dtype=object)"
      ]
     },
     "execution_count": 4,
     "metadata": {},
     "output_type": "execute_result"
    }
   ],
   "source": [
    "df[\"classification\"].unique()"
   ]
  },
  {
   "cell_type": "code",
   "execution_count": 24,
   "id": "a12564eb-5893-45b0-b3e0-dd829b537e6f",
   "metadata": {},
   "outputs": [],
   "source": [
    "df[\"spam\"] = (df[\"classification\"] == \"spam\").astype(int)\n",
    "df = df.drop(\"classification\", axis=1)"
   ]
  },
  {
   "cell_type": "code",
   "execution_count": 25,
   "id": "1d9f13ea-a27d-4948-925e-59368cf9162e",
   "metadata": {},
   "outputs": [
    {
     "data": {
      "text/html": [
       "<div>\n",
       "<style scoped>\n",
       "    .dataframe tbody tr th:only-of-type {\n",
       "        vertical-align: middle;\n",
       "    }\n",
       "\n",
       "    .dataframe tbody tr th {\n",
       "        vertical-align: top;\n",
       "    }\n",
       "\n",
       "    .dataframe thead th {\n",
       "        text-align: right;\n",
       "    }\n",
       "</style>\n",
       "<table border=\"1\" class=\"dataframe\">\n",
       "  <thead>\n",
       "    <tr style=\"text-align: right;\">\n",
       "      <th></th>\n",
       "      <th>messages</th>\n",
       "      <th>spam</th>\n",
       "    </tr>\n",
       "  </thead>\n",
       "  <tbody>\n",
       "    <tr>\n",
       "      <th>5570</th>\n",
       "      <td>The guy did some bitching but I acted like i'd...</td>\n",
       "      <td>0</td>\n",
       "    </tr>\n",
       "    <tr>\n",
       "      <th>5571</th>\n",
       "      <td>Rofl. Its true to its name</td>\n",
       "      <td>0</td>\n",
       "    </tr>\n",
       "  </tbody>\n",
       "</table>\n",
       "</div>"
      ],
      "text/plain": [
       "                                               messages  spam\n",
       "5570  The guy did some bitching but I acted like i'd...     0\n",
       "5571                         Rofl. Its true to its name     0"
      ]
     },
     "execution_count": 25,
     "metadata": {},
     "output_type": "execute_result"
    }
   ],
   "source": [
    "df.tail(2)"
   ]
  },
  {
   "cell_type": "code",
   "execution_count": 26,
   "id": "7f8eb62a-b7cb-453f-9c32-a46e656c6ac5",
   "metadata": {},
   "outputs": [
    {
     "data": {
      "text/plain": [
       "0       0\n",
       "1       0\n",
       "2       1\n",
       "3       0\n",
       "4       0\n",
       "       ..\n",
       "5567    1\n",
       "5568    0\n",
       "5569    0\n",
       "5570    0\n",
       "5571    0\n",
       "Name: spam, Length: 5572, dtype: int64"
      ]
     },
     "execution_count": 26,
     "metadata": {},
     "output_type": "execute_result"
    }
   ],
   "source": [
    "df[\"spam\"]"
   ]
  },
  {
   "cell_type": "code",
   "execution_count": 8,
   "id": "fb2e3661-3e12-4867-98c3-a0b96d915db4",
   "metadata": {},
   "outputs": [
    {
     "data": {
      "text/plain": [
       "np.int64(4825)"
      ]
     },
     "execution_count": 8,
     "metadata": {},
     "output_type": "execute_result"
    }
   ],
   "source": [
    "(~df[\"spam\"]).sum()"
   ]
  },
  {
   "cell_type": "code",
   "execution_count": 68,
   "id": "d2f62444-ff4a-4e14-9098-7149fe16d2e5",
   "metadata": {},
   "outputs": [],
   "source": [
    "from sklearn.feature_extraction.text import CountVectorizer\n",
    "from sklearn.model_selection import train_test_split\n",
    "\n",
    "\n",
    "X_train_text, X_test_text, y_train_series, y_test_series = train_test_split(\n",
    "    df[\"messages\"], df[\"spam\"], test_size=0.2, random_state=42, stratify=df[\"spam\"]\n",
    ")"
   ]
  },
  {
   "cell_type": "code",
   "execution_count": 55,
   "id": "21d05928-b2ed-4b4d-8c65-ac73285ae3c9",
   "metadata": {},
   "outputs": [],
   "source": [
    "import numpy as np"
   ]
  },
  {
   "cell_type": "code",
   "execution_count": 69,
   "id": "03c12fe7-f179-4587-bd6c-56c34ba2e57e",
   "metadata": {},
   "outputs": [
    {
     "name": "stdout",
     "output_type": "stream",
     "text": [
      "6.453177257525083\n",
      "6.483221476510067\n"
     ]
    }
   ],
   "source": [
    "print((np.sum(y_train_series== 0))/ (np.sum(y_train_series==1)))\n",
    "print((np.sum(y_test_series==0))/(np.sum(y_test_series==1)))\n",
    "\n",
    "# stratify makes sure that both the train and test set have the same proportions of spam and ham messages :)\n"
   ]
  },
  {
   "cell_type": "code",
   "execution_count": 57,
   "id": "523c2cd4",
   "metadata": {},
   "outputs": [],
   "source": [
    "count = CountVectorizer(max_features=1000, stop_words=\"english\")\n"
   ]
  },
  {
   "cell_type": "code",
   "execution_count": 58,
   "id": "c4cd602e",
   "metadata": {},
   "outputs": [],
   "source": [
    "X_train_count = count.fit_transform(X_train_text)\n",
    "X_test_count = count.transform(X_test_text)"
   ]
  },
  {
   "cell_type": "code",
   "execution_count": 59,
   "id": "c49f3bc0",
   "metadata": {},
   "outputs": [],
   "source": [
    "import torch\n",
    "from torch import nn"
   ]
  },
  {
   "cell_type": "code",
   "execution_count": 74,
   "id": "2c3c1dc0",
   "metadata": {},
   "outputs": [],
   "source": [
    "# convering to pytorch tensorsss\n",
    "X_train = torch.tensor(X_train_count.toarray(), dtype=torch.float32)\n",
    "X_test = torch.tensor(X_test_count.toarray(), dtype=torch.float32)\n",
    "\n",
    "y_train = torch.tensor(y_train_series.values, dtype=torch.float32).reshape(-1, 1)\n",
    "y_test = torch.tensor(y_test_series.values, dtype=torch.float32).reshape(-1, 1)"
   ]
  },
  {
   "cell_type": "code",
   "execution_count": 76,
   "id": "c67dd0a4",
   "metadata": {},
   "outputs": [
    {
     "name": "stdout",
     "output_type": "stream",
     "text": [
      "torch.Size([4457, 1000]) torch.Size([4457, 1])\n"
     ]
    }
   ],
   "source": [
    "print(X_train.shape, y_train.shape)"
   ]
  },
  {
   "cell_type": "code",
   "execution_count": 82,
   "id": "a6f123fe",
   "metadata": {},
   "outputs": [],
   "source": [
    "class SpamClassifier(nn.Module):\n",
    "    def __init__(self, *, input_size):\n",
    "        super(SpamClassifier, self).__init__()\n",
    "        self.classifier = nn.Sequential(\n",
    "            \n",
    "            nn.Linear(input_size, 128),\n",
    "            nn.ReLU(),\n",
    "            nn.Dropout(0.3),\n",
    "            nn.Linear(128, 32),\n",
    "            nn.ReLU(),\n",
    "            nn.Dropout(0.3),\n",
    "            nn.Linear(32, 1)\n",
    "        )\n",
    "        \n",
    "    def forward(self,x):\n",
    "        return self.classifier(x)\n",
    "\n",
    "            "
   ]
  },
  {
   "cell_type": "code",
   "execution_count": 84,
   "id": "5ca2042a",
   "metadata": {},
   "outputs": [],
   "source": [
    "model = SpamClassifier(input_size=X_train.shape[1])\n",
    "loss_fn = nn.BCEWithLogitsLoss()\n",
    "optimizer = torch.optim.Adam(model.parameters(), lr = 0.001, weight_decay=1e-5)"
   ]
  },
  {
   "cell_type": "code",
   "execution_count": 92,
   "id": "274afaf8",
   "metadata": {},
   "outputs": [],
   "source": [
    "def train_net(model, X_train, X_test, y_train, y_test, epochs=100):\n",
    "    train_losses = []\n",
    "    test_accuracies = []\n",
    "    \n",
    "    for epoch in range(epochs):\n",
    "        model.train()\n",
    "        optimizer.zero_grad()\n",
    "        train_outputs = model(X_train)\n",
    "        train_loss = loss_fn(train_outputs, y_train)\n",
    "        train_loss.backward()\n",
    "        optimizer.step()\n",
    "        \n",
    "        \n",
    "        if epoch % 10 == 0 :  # evaluating only once per ten steps\n",
    "            \n",
    "            model.eval()  # this ignores the dropouttt\n",
    "            with torch.no_grad():\n",
    "                test_output = model(X_test)\n",
    "                test_prob = torch.sigmoid(test_output)\n",
    "                test_preds = (test_prob >= 0.5).float()\n",
    "                test_accuracy = (test_preds == y_test).float().mean()\n",
    "                \n",
    "                train_losses.append(train_loss.item())\n",
    "                test_accuracies.append(test_accuracy.item())\n",
    "                \n",
    "                print(f'Epoch {epoch}: Train Loss = {train_loss.item():.4f}, Test Accuracy = {test_accuracy.item():.4f}')\n",
    "\n",
    "    return train_losses, test_accuracies\n",
    "\n",
    "                "
   ]
  },
  {
   "cell_type": "code",
   "execution_count": 93,
   "id": "47764313",
   "metadata": {},
   "outputs": [
    {
     "name": "stdout",
     "output_type": "stream",
     "text": [
      "Epoch 0: Train Loss = 0.7126, Test Accuracy = 0.1336\n",
      "Epoch 10: Train Loss = 0.6783, Test Accuracy = 0.9040\n",
      "Epoch 20: Train Loss = 0.6098, Test Accuracy = 0.9812\n",
      "Epoch 30: Train Loss = 0.4734, Test Accuracy = 0.9794\n",
      "Epoch 40: Train Loss = 0.3049, Test Accuracy = 0.9803\n",
      "Epoch 50: Train Loss = 0.1735, Test Accuracy = 0.9812\n",
      "Epoch 60: Train Loss = 0.1042, Test Accuracy = 0.9821\n",
      "Epoch 70: Train Loss = 0.0668, Test Accuracy = 0.9830\n",
      "Epoch 80: Train Loss = 0.0460, Test Accuracy = 0.9848\n",
      "Epoch 90: Train Loss = 0.0323, Test Accuracy = 0.9848\n",
      "Epoch 100: Train Loss = 0.0253, Test Accuracy = 0.9830\n",
      "Epoch 110: Train Loss = 0.0205, Test Accuracy = 0.9830\n",
      "Epoch 120: Train Loss = 0.0171, Test Accuracy = 0.9821\n",
      "Epoch 130: Train Loss = 0.0142, Test Accuracy = 0.9812\n",
      "Epoch 140: Train Loss = 0.0126, Test Accuracy = 0.9821\n",
      "Epoch 150: Train Loss = 0.0102, Test Accuracy = 0.9821\n",
      "Epoch 160: Train Loss = 0.0097, Test Accuracy = 0.9821\n",
      "Epoch 170: Train Loss = 0.0086, Test Accuracy = 0.9821\n",
      "Epoch 180: Train Loss = 0.0075, Test Accuracy = 0.9803\n",
      "Epoch 190: Train Loss = 0.0070, Test Accuracy = 0.9803\n"
     ]
    }
   ],
   "source": [
    "train_losses, test_accuracies = train_net(model, X_train,X_test,y_train, y_test, epochs=200)\n"
   ]
  },
  {
   "cell_type": "code",
   "execution_count": 97,
   "id": "04165810",
   "metadata": {},
   "outputs": [],
   "source": [
    "from sklearn.metrics import accuracy_score, classification_report, confusion_matrix\n"
   ]
  },
  {
   "cell_type": "code",
   "execution_count": 98,
   "id": "2b8eaf59",
   "metadata": {},
   "outputs": [
    {
     "name": "stdout",
     "output_type": "stream",
     "text": [
      "\n",
      "Final Results:\n",
      "Training Accuracy: 0.9996\n",
      "Test Accuracy: 0.9803\n",
      "\n",
      "Classification Report:\n",
      "              precision    recall  f1-score   support\n",
      "\n",
      "         Ham       0.98      1.00      0.99       966\n",
      "        Spam       0.97      0.88      0.92       149\n",
      "\n",
      "    accuracy                           0.98      1115\n",
      "   macro avg       0.98      0.94      0.96      1115\n",
      "weighted avg       0.98      0.98      0.98      1115\n",
      "\n",
      "\n",
      "Confusion Matrix:\n",
      "[[962   4]\n",
      " [ 18 131]]\n"
     ]
    }
   ],
   "source": [
    "# final evaluation:\n",
    "model.eval()  \n",
    "with torch.no_grad():\n",
    "    train_outputs = model(X_train)\n",
    "    train_probs = torch.sigmoid(train_outputs)\n",
    "    train_preds = (train_probs >= 0.5).float()\n",
    "    train_accuracy = (train_preds == y_train).float().mean()\n",
    "    \n",
    "    test_outputs = model(X_test)\n",
    "    test_probs = torch.sigmoid(test_outputs)\n",
    "    test_preds = (test_probs >= 0.5).float()\n",
    "    test_accuracy = (test_preds == y_test).float().mean()\n",
    "    \n",
    "    print(f\"\\nFinal Results:\")\n",
    "    print(f\"Training Accuracy: {train_accuracy:.4f}\")\n",
    "    print(f\"Test Accuracy: {test_accuracy:.4f}\")\n",
    "    \n",
    "    y_test_np = y_test.numpy().flatten()\n",
    "    test_preds_np = test_preds.numpy().flatten()\n",
    "    \n",
    "    print(\"\\nClassification Report:\")\n",
    "    print(classification_report(y_test_np, test_preds_np, target_names=['Ham', 'Spam']))\n",
    "    \n",
    "    print(\"\\nConfusion Matrix:\")\n",
    "    print(confusion_matrix(y_test_np, test_preds_np))\n"
   ]
  },
  {
   "cell_type": "code",
   "execution_count": 99,
   "id": "7cbb7b0d",
   "metadata": {},
   "outputs": [],
   "source": [
    "# meh result but still okay i suppose"
   ]
  },
  {
   "cell_type": "code",
   "execution_count": 101,
   "id": "90948747",
   "metadata": {},
   "outputs": [
    {
     "name": "stdout",
     "output_type": "stream",
     "text": [
      "\n",
      "==================================================\n",
      "SPAM CLASSIFIER - TEST YOUR MESSAGES\n",
      "==================================================\n",
      "Testing with example messages:\n",
      "Message: 'Hello, how are you doing today?...' -> HAM (confidence: 0.002)\n",
      "Message: 'FREE! Click here to win $1000 now! Limited time of...' -> SPAM (confidence: 0.520)\n",
      "Message: 'Can you pick me up from the airport at 3pm?...' -> HAM (confidence: 0.008)\n",
      "Message: 'URGENT: Your account will be closed. Click here im...' -> SPAM (confidence: 0.842)\n",
      "Message: 'Thanks for dinner last night, it was great!...' -> HAM (confidence: 0.000)\n",
      "\n",
      "Now test your own messages (type 'quit' to exit):\n",
      "Prediction: HAM\n",
      "Confidence: 1.000\n",
      "Spam probability: 0.000\n",
      "Prediction: HAM\n",
      "Confidence: 0.511\n",
      "Spam probability: 0.489\n",
      "Prediction: HAM\n",
      "Confidence: 0.990\n",
      "Spam probability: 0.010\n",
      "Prediction: SPAM\n",
      "Confidence: 0.757\n",
      "Spam probability: 0.757\n",
      "Thanks for using the spam classifier!\n"
     ]
    }
   ],
   "source": [
    "def predict_message(message, model, vectorizer, threshold=0.5):\n",
    "    \"\"\"Predict if a message is spam or ham\"\"\"\n",
    "    model.eval()\n",
    "    \n",
    "    \n",
    "    message_vector = vectorizer.transform([message])\n",
    "    message_tensor = torch.tensor(message_vector.toarray(), dtype=torch.float32)\n",
    "    \n",
    "    \n",
    "    with torch.no_grad():\n",
    "        logits = model(message_tensor)\n",
    "        probability = torch.sigmoid(logits).item()\n",
    "        prediction = \"spam\" if probability >= threshold else \"ham\"\n",
    "    \n",
    "    return prediction, probability\n",
    "\n",
    "\n",
    "print(\"\\n\" + \"=\"*50)\n",
    "print(\"SPAM CLASSIFIER - TEST YOUR MESSAGES\")\n",
    "print(\"=\"*50)\n",
    "\n",
    "test_messages = [\n",
    "    \"Hello, how are you doing today?\",\n",
    "    \"FREE! Click here to win $1000 now! Limited time offer!\",\n",
    "    \"Can you pick me up from the airport at 3pm?\",\n",
    "    \"URGENT: Your account will be closed. Click here immediately!\",\n",
    "    \"Thanks for dinner last night, it was great!\"\n",
    "]\n",
    "\n",
    "print(\"Testing with example messages:\")\n",
    "for msg in test_messages:\n",
    "    pred, prob = predict_message(msg, model, count)\n",
    "    print(f\"Message: '{msg[:50]}...' -> {pred.upper()} (confidence: {prob:.3f})\")\n",
    "\n",
    "# Interactive mode\n",
    "print(\"\\nNow test your own messages (type 'quit' to exit):\")\n",
    "while True:\n",
    "    user_message = input(\"\\nEnter a message: \")\n",
    "    if user_message.lower() == 'quit':\n",
    "        break\n",
    "    \n",
    "    try:\n",
    "        prediction, probability = predict_message(user_message, model, count)\n",
    "        confidence = max(probability, 1 - probability)\n",
    "        print(f\"Prediction: {prediction.upper()}\")\n",
    "        print(f\"Confidence: {confidence:.3f}\")\n",
    "        print(f\"Spam probability: {probability:.3f}\")\n",
    "    except Exception as e:\n",
    "        print(f\"Error processing message: {e}\")\n",
    "\n",
    "print(\"Thanks for using the spam classifier!\")"
   ]
  },
  {
   "cell_type": "code",
   "execution_count": null,
   "id": "a6bb3b6b",
   "metadata": {},
   "outputs": [],
   "source": []
  }
 ],
 "metadata": {
  "kernelspec": {
   "display_name": "Python 3",
   "language": "python",
   "name": "python3"
  },
  "language_info": {
   "codemirror_mode": {
    "name": "ipython",
    "version": 3
   },
   "file_extension": ".py",
   "mimetype": "text/x-python",
   "name": "python",
   "nbconvert_exporter": "python",
   "pygments_lexer": "ipython3",
   "version": "3.10.11"
  }
 },
 "nbformat": 4,
 "nbformat_minor": 5
}
