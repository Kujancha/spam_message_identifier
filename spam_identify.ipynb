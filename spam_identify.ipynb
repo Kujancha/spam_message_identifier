{
 "cells": [
  {
   "cell_type": "code",
   "execution_count": 2,
   "id": "5a7e6f3b-69eb-479e-99e6-f93f99e87d20",
   "metadata": {},
   "outputs": [],
   "source": [
    "import pandas as pd\n",
    "\n",
    "import sys\n",
    "sys.path.append('src')\n",
    "from naive import NaiveBayesClassifier  # this is a custom library"
   ]
  },
  {
   "cell_type": "markdown",
   "id": "1bc0babf-bbfd-4a79-91c0-e9895b1cf552",
   "metadata": {},
   "source": [
    "Both the training set and test set were generated using Generative AI"
   ]
  },
  {
   "cell_type": "code",
   "execution_count": 3,
   "id": "7aa88e4d-8c20-4c2f-bb83-48a4ac2f45ff",
   "metadata": {},
   "outputs": [],
   "source": [
    "# this is the part where we take the input\n",
    "\n",
    "df = pd.read_csv(\"data/test_emails.csv\")"
   ]
  },
  {
   "cell_type": "code",
   "execution_count": 4,
   "id": "5348f2b6-9c89-4058-b989-3f61fb64453b",
   "metadata": {},
   "outputs": [
    {
     "data": {
      "text/html": [
       "<div>\n",
       "<style scoped>\n",
       "    .dataframe tbody tr th:only-of-type {\n",
       "        vertical-align: middle;\n",
       "    }\n",
       "\n",
       "    .dataframe tbody tr th {\n",
       "        vertical-align: top;\n",
       "    }\n",
       "\n",
       "    .dataframe thead th {\n",
       "        text-align: right;\n",
       "    }\n",
       "</style>\n",
       "<table border=\"1\" class=\"dataframe\">\n",
       "  <thead>\n",
       "    <tr style=\"text-align: right;\">\n",
       "      <th></th>\n",
       "      <th>text</th>\n",
       "      <th>label</th>\n",
       "    </tr>\n",
       "  </thead>\n",
       "  <tbody>\n",
       "    <tr>\n",
       "      <th>0</th>\n",
       "      <td>Act fast! Your chance to make $5000/week from ...</td>\n",
       "      <td>spam</td>\n",
       "    </tr>\n",
       "    <tr>\n",
       "      <th>1</th>\n",
       "      <td>Boost your credit score in just 7 days, sign up!</td>\n",
       "      <td>spam</td>\n",
       "    </tr>\n",
       "    <tr>\n",
       "      <th>2</th>\n",
       "      <td>Can we reschedule our call to next week?</td>\n",
       "      <td>ham</td>\n",
       "    </tr>\n",
       "    <tr>\n",
       "      <th>3</th>\n",
       "      <td>Can you call me when you get a chance?</td>\n",
       "      <td>ham</td>\n",
       "    </tr>\n",
       "    <tr>\n",
       "      <th>4</th>\n",
       "      <td>Cheap meds available online without prescription!</td>\n",
       "      <td>spam</td>\n",
       "    </tr>\n",
       "  </tbody>\n",
       "</table>\n",
       "</div>"
      ],
      "text/plain": [
       "                                                text label\n",
       "0  Act fast! Your chance to make $5000/week from ...  spam\n",
       "1   Boost your credit score in just 7 days, sign up!  spam\n",
       "2           Can we reschedule our call to next week?   ham\n",
       "3             Can you call me when you get a chance?   ham\n",
       "4  Cheap meds available online without prescription!  spam"
      ]
     },
     "execution_count": 4,
     "metadata": {},
     "output_type": "execute_result"
    }
   ],
   "source": [
    "df.head()"
   ]
  },
  {
   "cell_type": "code",
   "execution_count": 5,
   "id": "6ff6d780-1886-4734-9a5a-1dfaf04818db",
   "metadata": {},
   "outputs": [],
   "source": [
    "data = list(zip(df[\"text\"], df[\"label\"]))  # converting data into list as that is what our custom module requires"
   ]
  },
  {
   "cell_type": "code",
   "execution_count": 6,
   "id": "b39b1432-453c-4404-826d-5dec1692178c",
   "metadata": {},
   "outputs": [],
   "source": [
    "model = NaiveBayesClassifier()\n",
    "model.train(data)"
   ]
  },
  {
   "cell_type": "code",
   "execution_count": 7,
   "id": "9d3e67f3-70aa-4a41-a66d-a8bd872657f8",
   "metadata": {},
   "outputs": [],
   "source": [
    "# now time for testing\n",
    "test_messages = [\n",
    "    \"Claim your free gift card now!\",\n",
    "    \"Are we still on for the meeting tomorrow?\",\n",
    "    \"Your Netflix account has been suspended, update payment info.\",\n",
    "    \"Just finished the report, sending it over shortly.\",\n",
    "    \"Win cash prizes daily by playing online games!\"\n",
    "]\n",
    "\n",
    "# commenting the rest to avoid cluttering output; to uncommnet press Ctrl + / \n",
    "#     \"Let’s grab coffee after class?\",\n",
    "#     \"You’ve been chosen to receive a $500 voucher!\",\n",
    "#     \"Project discussion rescheduled to Friday.\",\n",
    "#     \"Final chance to win a luxury holiday package!\",\n",
    "#     \"Pick me up from the station around 5?\",\n",
    "#     \"Earn passive income easily from your phone!\",\n",
    "#     \"Can you review this document and give feedback?\",\n",
    "#     \"Congratulations, your number was selected!\",\n",
    "#     \"I left the groceries in the fridge.\",\n",
    "#     \"Unlock premium features now with zero cost!\",\n",
    "#     \"Don’t forget to submit your assignment tonight.\",\n",
    "#     \"Lowest rates on car insurance available now!\",\n",
    "#     \"I’ll be working from home tomorrow.\",\n",
    "#     \"Get exclusive access to limited deals today!\",\n",
    "#     \"Your prescription is ready for pickup.\"\n",
    "# ]"
   ]
  },
  {
   "cell_type": "code",
   "execution_count": 8,
   "id": "c0be7597-125e-4f1b-9ad0-dfe9a473de9a",
   "metadata": {},
   "outputs": [
    {
     "name": "stdout",
     "output_type": "stream",
     "text": [
      "Message: 'Claim your free gift card now!' → Prediction: spam\n",
      "Message: 'Are we still on for the meeting tomorrow?' → Prediction: ham\n",
      "Message: 'Your Netflix account has been suspended, update payment info.' → Prediction: spam\n",
      "Message: 'Just finished the report, sending it over shortly.' → Prediction: ham\n",
      "Message: 'Win cash prizes daily by playing online games!' → Prediction: spam\n"
     ]
    }
   ],
   "source": [
    "# time for testing\n",
    "for messages in test_messages:\n",
    "    prediction = model.predict(messages)\n",
    "    print(f\"Message: '{messages}' → Prediction: {prediction}\")"
   ]
  },
  {
   "cell_type": "code",
   "execution_count": 9,
   "id": "ea2171fc-a9b0-45b9-9b23-87264842da49",
   "metadata": {},
   "outputs": [],
   "source": [
    "# it worked yay ! :))"
   ]
  },
  {
   "cell_type": "code",
   "execution_count": 14,
   "id": "b204caa1",
   "metadata": {},
   "outputs": [
    {
     "name": "stdout",
     "output_type": "stream",
     "text": [
      "Enter a message you would like to check if spam or not:  just by investing $1 you can get a chance to win a car\n"
     ]
    },
    {
     "name": "stdout",
     "output_type": "stream",
     "text": [
      "Message: 'just by investing $1 you can get a chance to win a car' → Prediction: spam\n"
     ]
    }
   ],
   "source": [
    "custom_check  = (input(\"Enter a message you would like to check if spam or not: \"))\n",
    "checking = model.predict(custom_check)\n",
    "print(f\"Message: '{custom_check}' → Prediction: {checking}\")"
   ]
  },
  {
   "cell_type": "code",
   "execution_count": null,
   "id": "f050699e",
   "metadata": {},
   "outputs": [],
   "source": []
  },
  {
   "cell_type": "code",
   "execution_count": null,
   "id": "40476e9b-68c9-4ac9-863a-d54a364dcfb9",
   "metadata": {},
   "outputs": [],
   "source": []
  }
 ],
 "metadata": {
  "kernelspec": {
   "display_name": "Python 3 (ipykernel)",
   "language": "python",
   "name": "python3"
  }
 },
 "nbformat": 4,
 "nbformat_minor": 5
}
