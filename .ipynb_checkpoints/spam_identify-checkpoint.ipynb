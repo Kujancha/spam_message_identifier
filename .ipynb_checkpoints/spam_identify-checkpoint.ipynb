{
 "cells": [
  {
   "cell_type": "code",
   "execution_count": 8,
   "id": "5a7e6f3b-69eb-479e-99e6-f93f99e87d20",
   "metadata": {},
   "outputs": [],
   "source": [
    "import pandas as pd\n",
    "\n",
    "import sys\n",
    "sys.path.append('src')\n",
    "from naive import NaiveBayesClassifier  # this is a custom library"
   ]
  },
  {
   "cell_type": "markdown",
   "id": "1bc0babf-bbfd-4a79-91c0-e9895b1cf552",
   "metadata": {},
   "source": [
    "Both the training set and test set were generated using Generative AI"
   ]
  },
  {
   "cell_type": "code",
   "execution_count": 9,
   "id": "7aa88e4d-8c20-4c2f-bb83-48a4ac2f45ff",
   "metadata": {},
   "outputs": [],
   "source": [
    "# this is the part where we take the input\n",
    "\n",
    "df = pd.read_csv(\"data/test_emails.csv\")"
   ]
  },
  {
   "cell_type": "code",
   "execution_count": 10,
   "id": "5348f2b6-9c89-4058-b989-3f61fb64453b",
   "metadata": {},
   "outputs": [
    {
     "data": {
      "text/html": [
       "<div>\n",
       "<style scoped>\n",
       "    .dataframe tbody tr th:only-of-type {\n",
       "        vertical-align: middle;\n",
       "    }\n",
       "\n",
       "    .dataframe tbody tr th {\n",
       "        vertical-align: top;\n",
       "    }\n",
       "\n",
       "    .dataframe thead th {\n",
       "        text-align: right;\n",
       "    }\n",
       "</style>\n",
       "<table border=\"1\" class=\"dataframe\">\n",
       "  <thead>\n",
       "    <tr style=\"text-align: right;\">\n",
       "      <th></th>\n",
       "      <th>text</th>\n",
       "      <th>label</th>\n",
       "    </tr>\n",
       "  </thead>\n",
       "  <tbody>\n",
       "    <tr>\n",
       "      <th>0</th>\n",
       "      <td>Act fast! Your chance to make $5000/week from ...</td>\n",
       "      <td>spam</td>\n",
       "    </tr>\n",
       "    <tr>\n",
       "      <th>1</th>\n",
       "      <td>Boost your credit score in just 7 days, sign up!</td>\n",
       "      <td>spam</td>\n",
       "    </tr>\n",
       "    <tr>\n",
       "      <th>2</th>\n",
       "      <td>Can we reschedule our call to next week?</td>\n",
       "      <td>ham</td>\n",
       "    </tr>\n",
       "    <tr>\n",
       "      <th>3</th>\n",
       "      <td>Can you call me when you get a chance?</td>\n",
       "      <td>ham</td>\n",
       "    </tr>\n",
       "    <tr>\n",
       "      <th>4</th>\n",
       "      <td>Cheap meds available online without prescription!</td>\n",
       "      <td>spam</td>\n",
       "    </tr>\n",
       "  </tbody>\n",
       "</table>\n",
       "</div>"
      ],
      "text/plain": [
       "                                                text label\n",
       "0  Act fast! Your chance to make $5000/week from ...  spam\n",
       "1   Boost your credit score in just 7 days, sign up!  spam\n",
       "2           Can we reschedule our call to next week?   ham\n",
       "3             Can you call me when you get a chance?   ham\n",
       "4  Cheap meds available online without prescription!  spam"
      ]
     },
     "execution_count": 10,
     "metadata": {},
     "output_type": "execute_result"
    }
   ],
   "source": [
    "df.head()"
   ]
  },
  {
   "cell_type": "code",
   "execution_count": 11,
   "id": "6ff6d780-1886-4734-9a5a-1dfaf04818db",
   "metadata": {},
   "outputs": [],
   "source": [
    "data = list(zip(df[\"text\"], df[\"label\"]))  # converting data into list as that is what our custom module requires"
   ]
  },
  {
   "cell_type": "code",
   "execution_count": 16,
   "id": "b39b1432-453c-4404-826d-5dec1692178c",
   "metadata": {},
   "outputs": [
    {
     "ename": "TypeError",
     "evalue": "NaiveBayesClassifier.tokenize() takes 1 positional argument but 2 were given",
     "output_type": "error",
     "traceback": [
      "\u001b[1;31m---------------------------------------------------------------------------\u001b[0m",
      "\u001b[1;31mTypeError\u001b[0m                                 Traceback (most recent call last)",
      "Cell \u001b[1;32mIn[16], line 2\u001b[0m\n\u001b[0;32m      1\u001b[0m model \u001b[38;5;241m=\u001b[39m NaiveBayesClassifier()\n\u001b[1;32m----> 2\u001b[0m \u001b[43mmodel\u001b[49m\u001b[38;5;241;43m.\u001b[39;49m\u001b[43mtrain\u001b[49m\u001b[43m(\u001b[49m\u001b[43mdata\u001b[49m\u001b[43m)\u001b[49m\n",
      "File \u001b[1;32m~\\Documents\\bruhimgs\\on and on we go\\ML with Python\\src\\naive.py:27\u001b[0m, in \u001b[0;36mNaiveBayesClassifier.train\u001b[1;34m(self, data)\u001b[0m\n\u001b[0;32m     25\u001b[0m \u001b[38;5;28;01mdef\u001b[39;00m\u001b[38;5;250m \u001b[39m\u001b[38;5;21mtrain\u001b[39m(\u001b[38;5;28mself\u001b[39m, data:\u001b[38;5;28mlist\u001b[39m):\n\u001b[0;32m     26\u001b[0m     \u001b[38;5;28;01mfor\u001b[39;00m message, label \u001b[38;5;129;01min\u001b[39;00m data:\n\u001b[1;32m---> 27\u001b[0m         words \u001b[38;5;241m=\u001b[39m \u001b[38;5;28;43mself\u001b[39;49m\u001b[38;5;241;43m.\u001b[39;49m\u001b[43mtokenize\u001b[49m\u001b[43m(\u001b[49m\u001b[43mmessage\u001b[49m\u001b[43m)\u001b[49m\n\u001b[0;32m     28\u001b[0m         \u001b[38;5;28mself\u001b[39m\u001b[38;5;241m.\u001b[39mvocab\u001b[38;5;241m.\u001b[39mupdate(words)\n\u001b[0;32m     30\u001b[0m         \u001b[38;5;28;01mif\u001b[39;00m label\u001b[38;5;241m.\u001b[39mlower() \u001b[38;5;241m==\u001b[39m \u001b[38;5;124m\"\u001b[39m\u001b[38;5;124mspam\u001b[39m\u001b[38;5;124m\"\u001b[39m:\n",
      "\u001b[1;31mTypeError\u001b[0m: NaiveBayesClassifier.tokenize() takes 1 positional argument but 2 were given"
     ]
    }
   ],
   "source": [
    "model = NaiveBayesClassifier()\n",
    "model.train(data)"
   ]
  },
  {
   "cell_type": "code",
   "execution_count": 14,
   "id": "9d3e67f3-70aa-4a41-a66d-a8bd872657f8",
   "metadata": {},
   "outputs": [],
   "source": [
    "# now time for testing\n",
    "test_messages = [\n",
    "    \"Claim your free gift card now!\",\n",
    "    \"Are we still on for the meeting tomorrow?\",\n",
    "    \"Your Netflix account has been suspended, update payment info.\",\n",
    "    \"Just finished the report, sending it over shortly.\",\n",
    "    \"Win cash prizes daily by playing online games!\"\n",
    "]\n",
    "\n",
    "# commenting the rest to avoid cluttering output; to uncommnet press Ctrl + / \n",
    "#     \"Let’s grab coffee after class?\",\n",
    "#     \"You’ve been chosen to receive a $500 voucher!\",\n",
    "#     \"Project discussion rescheduled to Friday.\",\n",
    "#     \"Final chance to win a luxury holiday package!\",\n",
    "#     \"Pick me up from the station around 5?\",\n",
    "#     \"Earn passive income easily from your phone!\",\n",
    "#     \"Can you review this document and give feedback?\",\n",
    "#     \"Congratulations, your number was selected!\",\n",
    "#     \"I left the groceries in the fridge.\",\n",
    "#     \"Unlock premium features now with zero cost!\",\n",
    "#     \"Don’t forget to submit your assignment tonight.\",\n",
    "#     \"Lowest rates on car insurance available now!\",\n",
    "#     \"I’ll be working from home tomorrow.\",\n",
    "#     \"Get exclusive access to limited deals today!\",\n",
    "#     \"Your prescription is ready for pickup.\"\n",
    "# ]"
   ]
  },
  {
   "cell_type": "code",
   "execution_count": null,
   "id": "c0be7597-125e-4f1b-9ad0-dfe9a473de9a",
   "metadata": {},
   "outputs": [
    {
     "name": "stdout",
     "output_type": "stream",
     "text": [
      "Message: 'Claim your free gift card now!' → Prediction: spam\n",
      "Message: 'Are we still on for the meeting tomorrow?' → Prediction: ham\n",
      "Message: 'Your Netflix account has been suspended, update payment info.' → Prediction: spam\n",
      "Message: 'Just finished the report, sending it over shortly.' → Prediction: ham\n",
      "Message: 'Win cash prizes daily by playing online games!' → Prediction: spam\n",
      "Message: 'Let’s grab coffee after class?' → Prediction: ham\n",
      "Message: 'You’ve been chosen to receive a $500 voucher!' → Prediction: spam\n",
      "Message: 'Project discussion rescheduled to Friday.' → Prediction: ham\n",
      "Message: 'Final chance to win a luxury holiday package!' → Prediction: spam\n",
      "Message: 'Pick me up from the station around 5?' → Prediction: ham\n",
      "Message: 'Earn passive income easily from your phone!' → Prediction: spam\n",
      "Message: 'Can you review this document and give feedback?' → Prediction: ham\n",
      "Message: 'Congratulations, your number was selected!' → Prediction: spam\n",
      "Message: 'I left the groceries in the fridge.' → Prediction: ham\n",
      "Message: 'Unlock premium features now with zero cost!' → Prediction: spam\n",
      "Message: 'Don’t forget to submit your assignment tonight.' → Prediction: ham\n",
      "Message: 'Lowest rates on car insurance available now!' → Prediction: spam\n",
      "Message: 'I’ll be working from home tomorrow.' → Prediction: ham\n",
      "Message: 'Get exclusive access to limited deals today!' → Prediction: spam\n",
      "Message: 'Your prescription is ready for pickup.' → Prediction: ham\n"
     ]
    }
   ],
   "source": [
    "# time for testing\n",
    "for messages in test_messages:\n",
    "    prediction = model.predict(messages)\n",
    "    print(f\"Message: '{messages}' → Prediction: {prediction}\")"
   ]
  },
  {
   "cell_type": "code",
   "execution_count": null,
   "id": "ea2171fc-a9b0-45b9-9b23-87264842da49",
   "metadata": {},
   "outputs": [],
   "source": [
    "# it worked yay ! :))"
   ]
  },
  {
   "cell_type": "code",
   "execution_count": null,
   "id": "b204caa1",
   "metadata": {},
   "outputs": [
    {
     "ename": "NameError",
     "evalue": "name 'model' is not defined",
     "output_type": "error",
     "traceback": [
      "\u001b[1;31m---------------------------------------------------------------------------\u001b[0m",
      "\u001b[1;31mNameError\u001b[0m                                 Traceback (most recent call last)",
      "Cell \u001b[1;32mIn[3], line 2\u001b[0m\n\u001b[0;32m      1\u001b[0m custom_check  \u001b[38;5;241m=\u001b[39m (\u001b[38;5;28minput\u001b[39m(\u001b[38;5;124m\"\u001b[39m\u001b[38;5;124mEnter a message you would like to check if spam or not: \u001b[39m\u001b[38;5;124m\"\u001b[39m))\n\u001b[1;32m----> 2\u001b[0m checking \u001b[38;5;241m=\u001b[39m \u001b[43mmodel\u001b[49m\u001b[38;5;241m.\u001b[39mpredict(custom_check)\n\u001b[0;32m      3\u001b[0m \u001b[38;5;28mprint\u001b[39m(\u001b[38;5;124mf\u001b[39m\u001b[38;5;124m\"\u001b[39m\u001b[38;5;124mMessage: \u001b[39m\u001b[38;5;124m'\u001b[39m\u001b[38;5;132;01m{\u001b[39;00mcustom_check\u001b[38;5;132;01m}\u001b[39;00m\u001b[38;5;124m'\u001b[39m\u001b[38;5;124m → Prediction: \u001b[39m\u001b[38;5;132;01m{\u001b[39;00mchecking\u001b[38;5;132;01m}\u001b[39;00m\u001b[38;5;124m\"\u001b[39m)\n",
      "\u001b[1;31mNameError\u001b[0m: name 'model' is not defined"
     ]
    }
   ],
   "source": [
    "custom_check  = (input(\"Enter a message you would like to check if spam or not: \"))\n",
    "checking = model.predict(custom_check)\n",
    "print(f\"Message: '{custom_check}' → Prediction: {checking}\")"
   ]
  },
  {
   "cell_type": "code",
   "execution_count": null,
   "id": "f050699e",
   "metadata": {},
   "outputs": [],
   "source": []
  }
 ],
 "metadata": {
  "kernelspec": {
   "display_name": "Python 3 (ipykernel)",
   "language": "python",
   "name": "python3"
  },
  "language_info": {
   "codemirror_mode": {
    "name": "ipython",
    "version": 3
   },
   "file_extension": ".py",
   "mimetype": "text/x-python",
   "name": "python",
   "nbconvert_exporter": "python",
   "pygments_lexer": "ipython3",
   "version": "3.10.11"
  }
 },
 "nbformat": 4,
 "nbformat_minor": 5
}
